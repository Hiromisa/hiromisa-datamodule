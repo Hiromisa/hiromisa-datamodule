{
 "cells": [
  {
   "cell_type": "markdown",
   "id": "95c00a50-e85c-4aa1-a2ed-afb6c667b73f",
   "metadata": {},
   "source": [
    "# Web scraping: headers, the networks tab and parsing an API URL\n",
    "## Helpful links and resources\n",
    "- [urllib](https://docs.python.org/3/library/urllib.parse.html#) is a Python library that will pick apart URLs\n",
    "- [Sessions object - request library](https://docs.python-requests.org/en/master/user/advanced/#session-objects)"
   ]
  },
  {
   "cell_type": "code",
   "execution_count": 1,
   "id": "a812281b-19bb-42db-a11b-6ae1bef64387",
   "metadata": {},
   "outputs": [],
   "source": [
    "#import libraries\n",
    "from urllib.parse import urlparse\n",
    "from bs4 import BeautifulSoup\n",
    "import requests"
   ]
  },
  {
   "cell_type": "markdown",
   "id": "39a553a8-93d0-482c-8d15-083aa316a028",
   "metadata": {},
   "source": [
    "## The networks tab\n",
    "### Static data files\n",
    "[Covid cases in the US - New York Times](https://www.nytimes.com/interactive/2021/us/covid-cases.html)"
   ]
  },
  {
   "cell_type": "code",
   "execution_count": 2,
   "id": "05f19b68-de73-4570-85b3-880e68be63ae",
   "metadata": {},
   "outputs": [],
   "source": [
    "# get static data file\n",
    "#inspect>network>XHR>data.json>header\n",
    "nyt_url = \"https://static01.nyt.com/newsgraphics/2021/coronavirus-tracking/data/pages/usa/data.json\"\n",
    "r = requests.get(nyt_url)"
   ]
  },
  {
   "cell_type": "code",
   "execution_count": 3,
   "id": "a9a60bb9-1c2d-4d76-9fc5-935797b9c84c",
   "metadata": {},
   "outputs": [],
   "source": [
    "nyt_covid = r.json()"
   ]
  },
  {
   "cell_type": "code",
   "execution_count": 4,
   "id": "914e3830-55f1-45f8-9dc2-775a18d4dd02",
   "metadata": {},
   "outputs": [],
   "source": [
    "# nyt_covid   --- comment out after checking the data"
   ]
  },
  {
   "cell_type": "code",
   "execution_count": null,
   "id": "59346c84",
   "metadata": {},
   "outputs": [],
   "source": []
  },
  {
   "cell_type": "markdown",
   "id": "9b185437-5789-4fc9-8c92-78b1e4ee6e1c",
   "metadata": {},
   "source": [
    "### \"Secret\" APIs\n",
    "Shopping websites are good candidates for secret APIs, such as [Target](www.target.com)\n",
    "\n",
    "Goal: identify prices & ratings of the first 24 results that appear when searching for paper cups. \n",
    "\n",
    "#### Target's Search API"
   ]
  },
  {
   "cell_type": "code",
   "execution_count": 5,
   "id": "21d269d7-0db6-4eca-a79e-fbb7be3eb8b6",
   "metadata": {},
   "outputs": [],
   "source": [
    "# search for an item with the networks tab open to ID which APIs you can use\n",
    "url = \"https://redsky.target.com/redsky_aggregations/v1/web/plp_search_v1?key=ff457966e64d5e877fdbad070f276d18ecec4a01&channel=WEB&count=24&default_purchasability_filter=true&include_sponsored=true&keyword=bbq+grill&offset=0&page=%2Fs%2Fbbq+grill&platform=desktop&pricing_store_id=1122&scheduled_delivery_store_id=1122&store_ids=1122%2C321%2C1054%2C3265%2C2185&useragent=Mozilla%2F5.0+%28Macintosh%3B+Intel+Mac+OS+X+10_15_7%29+AppleWebKit%2F537.36+%28KHTML%2C+like+Gecko%29+Chrome%2F91.0.4472.114+Safari%2F537.36&visitor_id=017A775ABC630201BA0F30D2CCBC25CA\""
   ]
  },
  {
   "cell_type": "code",
   "execution_count": 6,
   "id": "070cc6be",
   "metadata": {},
   "outputs": [],
   "source": [
    "# parse the URL so it's easier to read\n",
    "target_url = urlparse(url)"
   ]
  },
  {
   "cell_type": "code",
   "execution_count": 7,
   "id": "2046cde7",
   "metadata": {},
   "outputs": [
    {
     "data": {
      "text/plain": [
       "ParseResult(scheme='https', netloc='redsky.target.com', path='/redsky_aggregations/v1/web/plp_search_v1', params='', query='key=ff457966e64d5e877fdbad070f276d18ecec4a01&channel=WEB&count=24&default_purchasability_filter=true&include_sponsored=true&keyword=bbq+grill&offset=0&page=%2Fs%2Fbbq+grill&platform=desktop&pricing_store_id=1122&scheduled_delivery_store_id=1122&store_ids=1122%2C321%2C1054%2C3265%2C2185&useragent=Mozilla%2F5.0+%28Macintosh%3B+Intel+Mac+OS+X+10_15_7%29+AppleWebKit%2F537.36+%28KHTML%2C+like+Gecko%29+Chrome%2F91.0.4472.114+Safari%2F537.36&visitor_id=017A775ABC630201BA0F30D2CCBC25CA', fragment='')"
      ]
     },
     "execution_count": 7,
     "metadata": {},
     "output_type": "execute_result"
    }
   ],
   "source": [
    "# check the parsed URL\n",
    "target_url"
   ]
  },
  {
   "cell_type": "code",
   "execution_count": 8,
   "id": "e9c852ea-050e-42e7-87d6-0b759f118a25",
   "metadata": {},
   "outputs": [
    {
     "name": "stdout",
     "output_type": "stream",
     "text": [
      "https://redsky.target.com/redsky_aggregations/v1/web/plp_search_v1\n",
      "{'key': 'ff457966e64d5e877fdbad070f276d18ecec4a01', 'channel': 'WEB', 'count': '24', 'default_purchasability_filter': 'true', 'include_sponsored': 'true', 'keyword': 'bbq+grill', 'offset': '0', 'page': '%2Fs%2Fbbq+grill', 'platform': 'desktop', 'pricing_store_id': '1122', 'scheduled_delivery_store_id': '1122', 'store_ids': '1122%2C321%2C1054%2C3265%2C2185', 'useragent': 'Mozilla%2F5.0+%28Macintosh%3B+Intel+Mac+OS+X+10_15_7%29+AppleWebKit%2F537.36+%28KHTML%2C+like+Gecko%29+Chrome%2F91.0.4472.114+Safari%2F537.36', 'visitor_id': '017A775ABC630201BA0F30D2CCBC25CA'}\n"
     ]
    },
    {
     "data": {
      "text/plain": [
       "(None, None)"
      ]
     },
     "execution_count": 8,
     "metadata": {},
     "output_type": "execute_result"
    }
   ],
   "source": [
    "# format the endpoint and parameters\n",
    "endpoint = target_url[0] + '://' + target_url[1] + target_url[2]\n",
    "params = {}\n",
    "for parameter in target_url[4].split('&'):\n",
    "    key_value = parameter.split('=')\n",
    "    params[key_value[0]] = key_value[1]\n",
    "print(endpoint), print(params)"
   ]
  },
  {
   "cell_type": "code",
   "execution_count": 9,
   "id": "a9bb798d-816d-44e4-b8e9-040566667937",
   "metadata": {},
   "outputs": [
    {
     "data": {
      "text/plain": [
       "dict_keys(['key', 'channel', 'count', 'default_purchasability_filter', 'include_sponsored', 'keyword', 'offset', 'page', 'platform', 'pricing_store_id', 'scheduled_delivery_store_id', 'store_ids', 'useragent', 'visitor_id'])"
      ]
     },
     "execution_count": 9,
     "metadata": {},
     "output_type": "execute_result"
    }
   ],
   "source": [
    "params.keys()"
   ]
  },
  {
   "cell_type": "code",
   "execution_count": 10,
   "id": "add49748",
   "metadata": {},
   "outputs": [
    {
     "data": {
      "text/plain": [
       "'bbq+grill'"
      ]
     },
     "execution_count": 10,
     "metadata": {},
     "output_type": "execute_result"
    }
   ],
   "source": [
    "params['keyword']"
   ]
  },
  {
   "cell_type": "code",
   "execution_count": 11,
   "id": "e623e238",
   "metadata": {},
   "outputs": [],
   "source": [
    "# change something in the parameters (like keyword)\n",
    "params['keyword'] = 'camp+tent'"
   ]
  },
  {
   "cell_type": "code",
   "execution_count": 12,
   "id": "514da90b",
   "metadata": {},
   "outputs": [
    {
     "data": {
      "text/plain": [
       "{'key': 'ff457966e64d5e877fdbad070f276d18ecec4a01',\n",
       " 'channel': 'WEB',\n",
       " 'count': '24',\n",
       " 'default_purchasability_filter': 'true',\n",
       " 'include_sponsored': 'true',\n",
       " 'keyword': 'camp+tent',\n",
       " 'offset': '0',\n",
       " 'page': '%2Fs%2Fbbq+grill',\n",
       " 'platform': 'desktop',\n",
       " 'pricing_store_id': '1122',\n",
       " 'scheduled_delivery_store_id': '1122',\n",
       " 'store_ids': '1122%2C321%2C1054%2C3265%2C2185',\n",
       " 'useragent': 'Mozilla%2F5.0+%28Macintosh%3B+Intel+Mac+OS+X+10_15_7%29+AppleWebKit%2F537.36+%28KHTML%2C+like+Gecko%29+Chrome%2F91.0.4472.114+Safari%2F537.36',\n",
       " 'visitor_id': '017A775ABC630201BA0F30D2CCBC25CA'}"
      ]
     },
     "execution_count": 12,
     "metadata": {},
     "output_type": "execute_result"
    }
   ],
   "source": [
    "params"
   ]
  },
  {
   "cell_type": "code",
   "execution_count": 13,
   "id": "8600a267-50e9-43fe-8798-b374e4d235db",
   "metadata": {},
   "outputs": [],
   "source": [
    "# get request with endpoint and params\n",
    "r = requests.get(endpoint, params=params)"
   ]
  },
  {
   "cell_type": "code",
   "execution_count": 14,
   "id": "dddf447d-6fea-4b70-8f5f-f3edc4d15a4f",
   "metadata": {},
   "outputs": [],
   "source": [
    "# drill down the json file\n",
    "target_json=r.json()\n",
    "# target_json  -- comment out afterr checking the data"
   ]
  },
  {
   "cell_type": "code",
   "execution_count": 15,
   "id": "3500909c-4eaf-4876-bdb7-95b7465234d9",
   "metadata": {},
   "outputs": [
    {
     "data": {
      "text/plain": [
       "24"
      ]
     },
     "execution_count": 15,
     "metadata": {},
     "output_type": "execute_result"
    }
   ],
   "source": [
    "# drill down some more\n",
    "# target_json.keys()\n",
    "# target_json['data'].keys()\n",
    "# target_json['data']['search'].keys()\n",
    "len(target_json['data']['search']['products'])"
   ]
  },
  {
   "cell_type": "code",
   "execution_count": 40,
   "id": "cfd50b1c",
   "metadata": {},
   "outputs": [],
   "source": [
    "# target_json['data']['search']['products'][0]"
   ]
  },
  {
   "cell_type": "code",
   "execution_count": 16,
   "id": "523f7b2b",
   "metadata": {},
   "outputs": [
    {
     "data": {
      "text/plain": [
       "{'current_retail': 79.99,\n",
       " 'formatted_current_price': '$79.99',\n",
       " 'formatted_current_price_type': 'reg'}"
      ]
     },
     "execution_count": 16,
     "metadata": {},
     "output_type": "execute_result"
    }
   ],
   "source": [
    "# target_json['data']['search']['products'][0].keys()\n",
    "target_json['data']['search']['products'][0]['price']"
   ]
  },
  {
   "cell_type": "code",
   "execution_count": 17,
   "id": "a495ee52",
   "metadata": {},
   "outputs": [
    {
     "name": "stdout",
     "output_type": "stream",
     "text": [
      "79.99\n",
      "64.99\n",
      "79.99\n",
      "289.99\n",
      "159.99\n",
      "21.99\n",
      "24.49\n",
      "39.99\n",
      "110.99\n",
      "129.99\n",
      "949.99\n",
      "269.99\n",
      "157.99\n",
      "155.99\n",
      "99.99\n",
      "189.99\n",
      "59.99\n",
      "199.99\n",
      "324.99\n",
      "259.9\n",
      "199.99\n",
      "155.99\n",
      "119.99\n",
      "324.99\n"
     ]
    }
   ],
   "source": [
    "camptents = target_json['data']['search']['products']\n",
    "for item in camptents:\n",
    "    print(item['price']['current_retail'])"
   ]
  },
  {
   "cell_type": "markdown",
   "id": "b82cea13-756d-42dd-ae1f-4f832aee633f",
   "metadata": {},
   "source": [
    "#### Target's aggregation API"
   ]
  },
  {
   "cell_type": "code",
   "execution_count": 18,
   "id": "dc56a282-2ff4-4e21-8e41-d1c38a406123",
   "metadata": {},
   "outputs": [],
   "source": [
    "# parse the URL so it's easier to read\n",
    "url2 = \"https://redsky.target.com/redsky_aggregations/v1/web/plp_fulfillment_v1?key=ff457966e64d5e877fdbad070f276d18ecec4a01&tcins=49143327%2C15324510%2C78260419%2C76694785%2C78260420%2C54521249%2C54520776%2C80558045%2C78260418%2C80189790%2C81315774%2C82297021%2C76077445%2C76175715%2C80189779%2C54588573%2C78260422%2C82238797%2C79715181%2C76136537%2C82297024%2C76144854%2C54406954%2C76147591&store_id=1122&zip=94404&state=CA&latitude=37.560&longitude=-122.280&scheduled_delivery_store_id=1122\"\n",
    "aggregation_url = urlparse(url2)"
   ]
  },
  {
   "cell_type": "code",
   "execution_count": 19,
   "id": "768f710c-839f-4f7e-aafc-346c517e1d65",
   "metadata": {},
   "outputs": [
    {
     "data": {
      "text/plain": [
       "ParseResult(scheme='https', netloc='redsky.target.com', path='/redsky_aggregations/v1/web/plp_fulfillment_v1', params='', query='key=ff457966e64d5e877fdbad070f276d18ecec4a01&tcins=49143327%2C15324510%2C78260419%2C76694785%2C78260420%2C54521249%2C54520776%2C80558045%2C78260418%2C80189790%2C81315774%2C82297021%2C76077445%2C76175715%2C80189779%2C54588573%2C78260422%2C82238797%2C79715181%2C76136537%2C82297024%2C76144854%2C54406954%2C76147591&store_id=1122&zip=94404&state=CA&latitude=37.560&longitude=-122.280&scheduled_delivery_store_id=1122', fragment='')"
      ]
     },
     "execution_count": 19,
     "metadata": {},
     "output_type": "execute_result"
    }
   ],
   "source": [
    "# check the parsed URL\n",
    "aggregation_url"
   ]
  },
  {
   "cell_type": "code",
   "execution_count": 20,
   "id": "1b3720f3-b361-4bdc-abd1-eb2c845f4dbf",
   "metadata": {},
   "outputs": [
    {
     "name": "stdout",
     "output_type": "stream",
     "text": [
      "https://redsky.target.com/redsky_aggregations/v1/web/plp_fulfillment_v1\n",
      "{'key': 'ff457966e64d5e877fdbad070f276d18ecec4a01', 'tcins': '49143327%2C15324510%2C78260419%2C76694785%2C78260420%2C54521249%2C54520776%2C80558045%2C78260418%2C80189790%2C81315774%2C82297021%2C76077445%2C76175715%2C80189779%2C54588573%2C78260422%2C82238797%2C79715181%2C76136537%2C82297024%2C76144854%2C54406954%2C76147591', 'store_id': '1122', 'zip': '94404', 'state': 'CA', 'latitude': '37.560', 'longitude': '-122.280', 'scheduled_delivery_store_id': '1122'}\n"
     ]
    },
    {
     "data": {
      "text/plain": [
       "(None, None)"
      ]
     },
     "execution_count": 20,
     "metadata": {},
     "output_type": "execute_result"
    }
   ],
   "source": [
    "# format the endpoint and parameters\n",
    "a_endpoint = aggregation_url[0] + '://' + aggregation_url[1] + aggregation_url[2]\n",
    "a_params = {}\n",
    "for parameter in aggregation_url[4].split('&'):\n",
    "    key_value = parameter.split('=')\n",
    "    a_params[key_value[0]] = key_value[1]\n",
    "print(a_endpoint), print(a_params)"
   ]
  },
  {
   "cell_type": "code",
   "execution_count": 21,
   "id": "cc112f76-5561-4f9c-ba30-54884f267503",
   "metadata": {},
   "outputs": [],
   "source": [
    "# change something in the parameters (like tcins)\n",
    "a_params.keys()\n",
    "a_params['tcins'] = '49143327'"
   ]
  },
  {
   "cell_type": "code",
   "execution_count": 22,
   "id": "19124375-79f9-4137-b864-9a73f91c5fa9",
   "metadata": {},
   "outputs": [
    {
     "data": {
      "text/plain": [
       "{'data': {'product_summaries': [{'__typename': 'ProductSummary',\n",
       "    'tcin': '49143327',\n",
       "    'fulfillment': {'product_id': '49143327',\n",
       "     'is_out_of_stock_in_all_store_locations': False,\n",
       "     'shipping_options': {'availability_status': 'IN_STOCK',\n",
       "      'loyalty_availability_status': 'IN_STOCK',\n",
       "      'available_to_promise_quantity': 2459.0,\n",
       "      'minimum_order_quantity': 1.0,\n",
       "      'services': [{'shipping_method_id': 'STANDARD',\n",
       "        'min_delivery_date': '2021-07-10',\n",
       "        'max_delivery_date': '2021-07-10',\n",
       "        'is_two_day_shipping': False,\n",
       "        'is_base_shipping_method': True,\n",
       "        'service_level_description': 'Standard Shipping',\n",
       "        'shipping_method_short_description': 'Standard',\n",
       "        'cutoff': '2021-07-08T19:00:00Z'}]},\n",
       "     'store_options': [{'location_name': 'San Mateo Fashion Island',\n",
       "       'location_address': '2220 Bridgepointe Pkwy,San Mateo,CA,94404-1569',\n",
       "       'location_id': '1122',\n",
       "       'search_response_store_type': 'PRIMARY',\n",
       "       'order_pickup': {'pickup_date': '2021-07-07',\n",
       "        'guest_pick_sla': 120,\n",
       "        'availability_status': 'IN_STOCK'},\n",
       "       'in_store_only': {'availability_status': 'IN_STOCK'}}],\n",
       "     'scheduled_delivery': {'availability_status': 'IN_STOCK'}}}]}}"
      ]
     },
     "execution_count": 22,
     "metadata": {},
     "output_type": "execute_result"
    }
   ],
   "source": [
    "# get request with endpoint and params\n",
    "response = requests.get(a_endpoint, a_params)\n",
    "a_taget_json = response.json()\n",
    "a_taget_json"
   ]
  },
  {
   "cell_type": "code",
   "execution_count": 23,
   "id": "6db29107-177b-4d07-ac3b-7c6c9c870fcd",
   "metadata": {},
   "outputs": [
    {
     "data": {
      "text/plain": [
       "1"
      ]
     },
     "execution_count": 23,
     "metadata": {},
     "output_type": "execute_result"
    }
   ],
   "source": [
    "# drill down the json file\n",
    "# a_taget_json.keys()\n",
    "# a_taget_json['data'].keys()\n",
    "len(a_taget_json['data']['product_summaries'])"
   ]
  },
  {
   "cell_type": "code",
   "execution_count": 24,
   "id": "1e0c17cc",
   "metadata": {},
   "outputs": [
    {
     "data": {
      "text/plain": [
       "{'availability_status': 'IN_STOCK'}"
      ]
     },
     "execution_count": 24,
     "metadata": {},
     "output_type": "execute_result"
    }
   ],
   "source": [
    "# a_taget_json['data']['product_summaries'][0].keys()\n",
    "a_taget_json['data']['product_summaries'][0]['fulfillment'].keys()\n",
    "a_taget_json['data']['product_summaries'][0]['fulfillment']['scheduled_delivery']"
   ]
  },
  {
   "cell_type": "code",
   "execution_count": null,
   "id": "c137ff7c-6539-47e6-b2b4-518b75c0b391",
   "metadata": {},
   "outputs": [],
   "source": []
  },
  {
   "cell_type": "code",
   "execution_count": null,
   "id": "2abf1ee8",
   "metadata": {},
   "outputs": [],
   "source": []
  },
  {
   "cell_type": "code",
   "execution_count": 43,
   "id": "d5cf1f95",
   "metadata": {},
   "outputs": [],
   "source": []
  },
  {
   "cell_type": "code",
   "execution_count": 44,
   "id": "40dc85f5",
   "metadata": {},
   "outputs": [],
   "source": []
  },
  {
   "cell_type": "code",
   "execution_count": null,
   "id": "07ded81d",
   "metadata": {},
   "outputs": [],
   "source": []
  },
  {
   "cell_type": "markdown",
   "id": "cffa5d46-0920-42ab-b1c9-31c7e33c0714",
   "metadata": {},
   "source": [
    "## Using sessions to login\n",
    "### Accessing password-protected pages\n",
    "[Sessions object - request library](https://docs.python-requests.org/en/master/user/advanced/#session-objects)"
   ]
  },
  {
   "cell_type": "markdown",
   "id": "83f3ca34",
   "metadata": {},
   "source": [
    "### I tried some webpages behind the paywall but I couldn't find any good url with \"config/config.json\". \n",
    "Instead of  this assignment, I tried to get a data behind the data story on WSJ via inspect>network tab (like Wapo's postal servise example in the previous class.) \n",
    "Article URL: https://www.wsj.com/graphics/can-you-guess-how-many-hotel-chains-equal-the-value-of-airbnb/\n",
    "It was a good practice for me. However, if you know any major web services fit to try this HW, please let me know."
   ]
  },
  {
   "cell_type": "code",
   "execution_count": 25,
   "id": "14a5f4f9",
   "metadata": {},
   "outputs": [],
   "source": [
    "wsj = \"https://wsjnewsgraphics.s3.amazonaws.com/projects/archibald/1RECjZL0QOp8OSrvsRxhWCr0M230lH_MKwALylJ1Issk-dev.json\""
   ]
  },
  {
   "cell_type": "code",
   "execution_count": 26,
   "id": "e9f7c1b7-c2a7-4cf6-a393-c1120c946335",
   "metadata": {},
   "outputs": [],
   "source": [
    "wsj_j = requests.get(wsj)\n",
    "wsj_json = wsj_j .json()\n",
    "# wsj_json --- comment out agter checking the data"
   ]
  },
  {
   "cell_type": "code",
   "execution_count": 27,
   "id": "6bc40e23",
   "metadata": {},
   "outputs": [
    {
     "data": {
      "text/plain": [
       "{'date': '9-Dec-20',\n",
       " 'dealValue': 3830,\n",
       " 'MarketValues_PostDeal': 40966,\n",
       " 'marketValue': 117664.17,\n",
       " 'company': 'Airbnb',\n",
       " 'nationality': 'United States',\n",
       " 'Offer Price': 68}"
      ]
     },
     "execution_count": 27,
     "metadata": {},
     "output_type": "execute_result"
    }
   ],
   "source": [
    "wsj_json.keys()\n",
    "wsj_json['ipo'][0]\n",
    "# len(wsj_json['ipo'])"
   ]
  },
  {
   "cell_type": "code",
   "execution_count": 28,
   "id": "64e22aee",
   "metadata": {},
   "outputs": [],
   "source": [
    "ipos = wsj_json['ipo']\n",
    "result = []\n",
    "for ipo in ipos:\n",
    "    result.append({ipo['company']: ipo['marketValue']})"
   ]
  },
  {
   "cell_type": "code",
   "execution_count": 29,
   "id": "91a526a6",
   "metadata": {},
   "outputs": [
    {
     "data": {
      "text/plain": [
       "[{'Airbnb': 117664.17},\n",
       " {'Snowflake': 86642.75},\n",
       " {'Lufax': 42757.27},\n",
       " {'DoorDash': 57568.89},\n",
       " {'Qualtrics': 14541.7},\n",
       " {'Wish': 16787.69},\n",
       " {'Unity': 35187.8},\n",
       " {'GoodRx': 22101.67},\n",
       " {'Affirm': 25112.15},\n",
       " {'Playtika': 12697.16},\n",
       " {'Dun & Bradstreet': 10927.1},\n",
       " {'McAfee': 8729.7},\n",
       " {'ZoomInfo': 22611.18},\n",
       " {'Root': 5459.88},\n",
       " {'GoHealth': 4618.57},\n",
       " {'Bentley Systems': 12677.35},\n",
       " {'Ozon': 11601.51},\n",
       " {'Chindata': 7151.2},\n",
       " {'Datto': 4061.01},\n",
       " {'Rackspace': 4517.88}]"
      ]
     },
     "execution_count": 29,
     "metadata": {},
     "output_type": "execute_result"
    }
   ],
   "source": [
    "result"
   ]
  },
  {
   "cell_type": "code",
   "execution_count": 30,
   "id": "e925c68d",
   "metadata": {},
   "outputs": [],
   "source": [
    "# open up a session so that your login credentials are saved"
   ]
  },
  {
   "cell_type": "code",
   "execution_count": 31,
   "id": "2a58b86f",
   "metadata": {},
   "outputs": [],
   "source": [
    "# load in config file with passwords"
   ]
  },
  {
   "cell_type": "code",
   "execution_count": 32,
   "id": "cf1e069d-ea0c-42ad-95b4-1aecace9c1ec",
   "metadata": {},
   "outputs": [],
   "source": [
    "# check the website for the login parameters"
   ]
  },
  {
   "cell_type": "code",
   "execution_count": 33,
   "id": "f1830a9c-621a-4a90-a53d-5c205a8e2ea7",
   "metadata": {},
   "outputs": [],
   "source": [
    "# post the payload to the site to login with the correct log in endpoint"
   ]
  },
  {
   "cell_type": "code",
   "execution_count": 34,
   "id": "b06c1117-0551-4273-8038-e2bd1ad8435f",
   "metadata": {},
   "outputs": [],
   "source": [
    "# check credentials to see if successful"
   ]
  },
  {
   "cell_type": "code",
   "execution_count": 35,
   "id": "6867fcc5-f08f-43cb-97da-48d80bb2d5bb",
   "metadata": {},
   "outputs": [],
   "source": [
    "# look at an example page to get you started with a query"
   ]
  },
  {
   "cell_type": "code",
   "execution_count": 36,
   "id": "2fa83ead-22b0-4819-aca9-23e8f04786b3",
   "metadata": {},
   "outputs": [],
   "source": [
    "# create a new post object from the example"
   ]
  },
  {
   "cell_type": "code",
   "execution_count": 37,
   "id": "11dad6ae-77c2-4fd1-842b-5048b77fc199",
   "metadata": {},
   "outputs": [],
   "source": [
    "# post request for the data"
   ]
  },
  {
   "cell_type": "code",
   "execution_count": 38,
   "id": "6c5d4682-7dbb-4ff1-8b1c-cce050aad8e1",
   "metadata": {},
   "outputs": [],
   "source": [
    "# check to see what is returned"
   ]
  },
  {
   "cell_type": "code",
   "execution_count": null,
   "id": "ead2d484-c9c6-4cdd-ab78-58c2c9c9a735",
   "metadata": {},
   "outputs": [],
   "source": []
  }
 ],
 "metadata": {
  "kernelspec": {
   "display_name": "Python 3",
   "language": "python",
   "name": "python3"
  },
  "language_info": {
   "codemirror_mode": {
    "name": "ipython",
    "version": 3
   },
   "file_extension": ".py",
   "mimetype": "text/x-python",
   "name": "python",
   "nbconvert_exporter": "python",
   "pygments_lexer": "ipython3",
   "version": "3.8.10"
  }
 },
 "nbformat": 4,
 "nbformat_minor": 5
}
